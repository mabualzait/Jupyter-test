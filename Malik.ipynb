{
  "nbformat": 4,
  "nbformat_minor": 0,
  "metadata": {
    "colab": {
      "name": "Malik.ipynb",
      "provenance": [],
      "toc_visible": true,
      "history_visible": true,
      "authorship_tag": "ABX9TyNzGZSM47MySMdZPsPYG/j5",
      "include_colab_link": true
    },
    "kernelspec": {
      "name": "python3",
      "display_name": "Python 3"
    }
  },
  "cells": [
    {
      "cell_type": "markdown",
      "metadata": {
        "id": "view-in-github",
        "colab_type": "text"
      },
      "source": [
        "<a href=\"https://colab.research.google.com/github/mabualzait/Jupyter-test/blob/main/Malik.ipynb\" target=\"_parent\"><img src=\"https://colab.research.google.com/assets/colab-badge.svg\" alt=\"Open In Colab\"/></a>"
      ]
    },
    {
      "cell_type": "code",
      "metadata": {
        "id": "x6u7PtgAQ2LG"
      },
      "source": [
        "import pandas\n",
        "from pandas import DataFrame\n",
        "import matplotlib.pyplot as plt \n",
        "\n",
        "\n",
        "data = pandas.read_csv('cost_revenue.csv')\n",
        "data.describe()\n",
        "\n",
        "X = DataFrame(data, columns= ['production_budget_usd'])\n",
        "y = DataFrame(data, columns= ['worldwide_gross_usd'])\n",
        "\n",
        "plt.scatter(X, y)\n",
        "plt.title = 'Malik'\n",
        "\n",
        "# plt.xlabel.title('Production budget')\n",
        "# plt.title('Budget vs Revenue')\n",
        "plt.show()"
      ],
      "execution_count": null,
      "outputs": []
    },
    {
      "cell_type": "markdown",
      "metadata": {
        "id": "zg1O6lNBJAsp"
      },
      "source": [
        "# New Section"
      ]
    }
  ]
}